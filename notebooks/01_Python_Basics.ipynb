{
 "cells": [
  {
   "cell_type": "markdown",
   "id": "7878ed18",
   "metadata": {},
   "source": [
    "# Introduction to Python Programming\n",
    "\n",
    "Welcome to your first Python programming notebook! This notebook will guide you through the fundamental concepts of Python programming, designed specifically for complete beginners.\n",
    "\n",
    "Python is a powerful, easy-to-learn programming language that's widely used in web development, data science, artificial intelligence, and many other fields. By the end of this notebook, you'll understand the basic building blocks of Python programming.\n",
    "\n",
    "**What you'll learn:**\n",
    "- Python syntax and basic rules\n",
    "- Working with different data types\n",
    "- Control structures (if statements, loops)\n",
    "- Functions and modules\n",
    "- Real-world examples using Python's standard library\n",
    "\n",
    "**Resources for further learning:**\n",
    "- [Official Python Tutorial](https://docs.python.org/3/tutorial/)\n",
    "- [Python.org Documentation](https://docs.python.org/3/)\n",
    "- [Real Python Tutorials](https://realpython.com/)"
   ]
  },
  {
   "cell_type": "markdown",
   "id": "3bcf6008",
   "metadata": {},
   "source": [
    "## 1. Setting Up Python Environment\n",
    "\n",
    "Before we start programming, let's verify that Python is working correctly on your system. Python uses the `print()` function to display output, which is one of the first things you'll learn.\n",
    "\n",
    "We'll also check which version of Python you're using. This notebook is designed to work with Python 3.6 or later. Don't worry if the version numbers don't match exactly - as long as it starts with \"3.\", you're good to go!"
   ]
  },
  {
   "cell_type": "code",
   "execution_count": null,
   "id": "92a1015a",
   "metadata": {},
   "outputs": [],
   "source": [
    "# Let's start with the classic \"Hello, World!\" program\n",
    "print(\"Hello, World!\")\n",
    "\n",
    "# Check Python version\n",
    "import sys\n",
    "print(\"Python version:\", sys.version)\n",
    "\n",
    "# Basic arithmetic to test functionality\n",
    "print(\"2 + 2 =\", 2 + 2)"
   ]
  },
  {
   "cell_type": "markdown",
   "id": "8e088165",
   "metadata": {},
   "source": [
    "**🎯 Your First Exercise:** In the cell below, write a print statement that displays your name. For example, if your name is Alex, you would write: `print(\"Hello, my name is Alex\")`\n",
    "\n",
    "Run the cell and you should see your message displayed below it."
   ]
  },
  {
   "cell_type": "code",
   "execution_count": null,
   "id": "284e1959",
   "metadata": {},
   "outputs": [],
   "source": [
    "# Write your code here\n",
    "# Example: print(\"Hello, my name is Alex\")\n"
   ]
  },
  {
   "cell_type": "markdown",
   "id": "a345deae",
   "metadata": {},
   "source": [
    "## 2. Python Syntax Fundamentals\n",
    "\n",
    "Python has some important syntax rules that make it different from other programming languages. The most important rule is **indentation** - Python uses spaces or tabs to group code together, rather than curly braces `{}` like many other languages.\n",
    "\n",
    "Other key syntax rules:\n",
    "- Comments start with `#` and are ignored by Python\n",
    "- Statements usually end with a new line (no semicolon needed)\n",
    "- Python is case-sensitive (`Name` and `name` are different)\n",
    "\n",
    "Let's see these rules in action:"
   ]
  },
  {
   "cell_type": "code",
   "execution_count": null,
   "id": "ac2bb394",
   "metadata": {},
   "outputs": [],
   "source": [
    "# This is a comment - it explains what the code does\n",
    "print(\"This line will be executed\")\n",
    "\n",
    "# Multiple statements on separate lines\n",
    "print(\"First line\")\n",
    "print(\"Second line\")\n",
    "\n",
    "# Python is case-sensitive\n",
    "message = \"Hello\"\n",
    "MESSAGE = \"HELLO\"\n",
    "print(\"message:\", message)\n",
    "print(\"MESSAGE:\", MESSAGE)\n",
    "\n",
    "# Indentation example (we'll use this more with if statements later)\n",
    "if True:\n",
    "    print(\"This is indented\")\n",
    "    print(\"This is also indented\")\n",
    "print(\"This is not indented\")"
   ]
  },
  {
   "cell_type": "markdown",
   "id": "664d6790",
   "metadata": {},
   "source": [
    "## 3. Variables and Data Types\n",
    "\n",
    "Variables are like containers that store data values. In Python, you don't need to declare the type of a variable - Python figures it out automatically! This is called \"dynamic typing.\"\n",
    "\n",
    "Python has several built-in data types:\n",
    "- **int**: Whole numbers (e.g., 42, -10)\n",
    "- **float**: Decimal numbers (e.g., 3.14, -2.5)\n",
    "- **str**: Text strings (e.g., \"Hello\", 'Python')\n",
    "- **bool**: True or False values\n",
    "\n",
    "You can use the `type()` function to check what type a variable is. Learn more about Python data types in the [official documentation](https://docs.python.org/3/library/stdtypes.html)."
   ]
  },
  {
   "cell_type": "code",
   "execution_count": null,
   "id": "fb18ebca",
   "metadata": {},
   "outputs": [],
   "source": [
    "# Creating variables with different data types\n",
    "age = 25                    # int (integer)\n",
    "height = 5.9               # float (floating-point number)\n",
    "name = \"Alice\"             # str (string)\n",
    "is_student = True          # bool (boolean)\n",
    "\n",
    "# Display the variables and their types\n",
    "print(\"age:\", age, \"- type:\", type(age))\n",
    "print(\"height:\", height, \"- type:\", type(height))\n",
    "print(\"name:\", name, \"- type:\", type(name))\n",
    "print(\"is_student:\", is_student, \"- type:\", type(is_student))"
   ]
  },
  {
   "cell_type": "code",
   "execution_count": null,
   "id": "90b6b64a",
   "metadata": {},
   "outputs": [],
   "source": [
    "# Variable assignment is flexible - variables can change types\n",
    "x = 10        # x is an integer\n",
    "print(\"x =\", x, type(x))\n",
    "\n",
    "x = 3.14      # now x is a float\n",
    "print(\"x =\", x, type(x))\n",
    "\n",
    "x = \"Hello\"   # now x is a string\n",
    "print(\"x =\", x, type(x))"
   ]
  },
  {
   "cell_type": "markdown",
   "id": "c8f9b9a5",
   "metadata": {},
   "source": [
    "**🎯 Exercise:** Create variables for the following and print them with their types:\n",
    "1. Your favorite number (integer)\n",
    "2. Your height in meters (float)\n",
    "3. Your favorite color (string)\n",
    "4. Whether you like pizza (boolean)\n",
    "\n",
    "Expected output format: `variable_name: value - type: <class 'type_name'>`"
   ]
  },
  {
   "cell_type": "code",
   "execution_count": null,
   "id": "4b526dbe",
   "metadata": {},
   "outputs": [],
   "source": [
    "# Write your code here\n",
    "# Example:\n",
    "# favorite_number = 7\n",
    "# print(\"favorite_number:\", favorite_number, \"- type:\", type(favorite_number))"
   ]
  },
  {
   "cell_type": "markdown",
   "id": "bee9cec1",
   "metadata": {},
   "source": [
    "## 4. Working with Numbers\n",
    "\n",
    "Python provides powerful tools for working with numbers. You can perform arithmetic operations, compare numbers, and use built-in mathematical functions.\n",
    "\n",
    "**Arithmetic operators:**\n",
    "- `+` addition\n",
    "- `-` subtraction\n",
    "- `*` multiplication\n",
    "- `/` division (returns float)\n",
    "- `//` floor division (returns integer)\n",
    "- `%` modulus (remainder)\n",
    "- `**` exponentiation (power)\n",
    "\n",
    "**Comparison operators:**\n",
    "- `==` equal to\n",
    "- `!=` not equal to\n",
    "- `<` less than\n",
    "- `>` greater than\n",
    "- `<=` less than or equal\n",
    "- `>=` greater than or equal"
   ]
  },
  {
   "cell_type": "code",
   "execution_count": null,
   "id": "eeac937e",
   "metadata": {},
   "outputs": [],
   "source": [
    "# Arithmetic operations\n",
    "a = 10\n",
    "b = 3\n",
    "\n",
    "print(\"a =\", a, \", b =\", b)\n",
    "print(\"Addition: a + b =\", a + b)\n",
    "print(\"Subtraction: a - b =\", a - b)\n",
    "print(\"Multiplication: a * b =\", a * b)\n",
    "print(\"Division: a / b =\", a / b)\n",
    "print(\"Floor division: a // b =\", a // b)\n",
    "print(\"Modulus: a % b =\", a % b)\n",
    "print(\"Exponentiation: a ** b =\", a ** b)"
   ]
  },
  {
   "cell_type": "code",
   "execution_count": null,
   "id": "d0f3236e",
   "metadata": {},
   "outputs": [],
   "source": [
    "# Comparison operations\n",
    "x = 5\n",
    "y = 10\n",
    "\n",
    "print(\"x =\", x, \", y =\", y)\n",
    "print(\"x == y:\", x == y)\n",
    "print(\"x != y:\", x != y)\n",
    "print(\"x < y:\", x < y)\n",
    "print(\"x > y:\", x > y)\n",
    "print(\"x <= 5:\", x <= 5)\n",
    "print(\"y >= 10:\", y >= 10)"
   ]
  },
  {
   "cell_type": "code",
   "execution_count": null,
   "id": "dce3656a",
   "metadata": {},
   "outputs": [],
   "source": [
    "# Built-in math functions\n",
    "print(\"Built-in math functions:\")\n",
    "print(\"abs(-5):\", abs(-5))        # absolute value\n",
    "print(\"round(3.7):\", round(3.7))  # rounding\n",
    "print(\"max(1, 5, 3):\", max(1, 5, 3))  # maximum\n",
    "print(\"min(1, 5, 3):\", min(1, 5, 3))  # minimum"
   ]
  },
  {
   "cell_type": "markdown",
   "id": "e768f5f7",
   "metadata": {},
   "source": [
    "## 5. Working with Strings\n",
    "\n",
    "Strings are sequences of characters enclosed in quotes. You can use single quotes (`'`), double quotes (`\"`), or triple quotes (`\"\"\"` or `'''`) for multi-line strings.\n",
    "\n",
    "Python provides many useful methods for working with strings, such as changing case, finding substrings, and replacing text. String formatting allows you to create dynamic text by inserting variables into strings.\n",
    "\n",
    "For more string methods, check the [Python string documentation](https://docs.python.org/3/library/stdtypes.html#string-methods)."
   ]
  },
  {
   "cell_type": "code",
   "execution_count": null,
   "id": "f3747442",
   "metadata": {},
   "outputs": [],
   "source": [
    "# Creating strings\n",
    "first_name = \"Alice\"\n",
    "last_name = 'Johnson'\n",
    "message = \"\"\"This is a\n",
    "multi-line string\"\"\"\n",
    "\n",
    "print(\"First name:\", first_name)\n",
    "print(\"Last name:\", last_name)\n",
    "print(\"Message:\", message)"
   ]
  },
  {
   "cell_type": "code",
   "execution_count": null,
   "id": "5a0eb028",
   "metadata": {},
   "outputs": [],
   "source": [
    "# String concatenation and length\n",
    "full_name = first_name + \" \" + last_name\n",
    "print(\"Full name:\", full_name)\n",
    "print(\"Length of full name:\", len(full_name))"
   ]
  },
  {
   "cell_type": "code",
   "execution_count": null,
   "id": "e432d0da",
   "metadata": {},
   "outputs": [],
   "source": [
    "# String methods\n",
    "text = \"python programming\"\n",
    "print(\"Original:\", text)\n",
    "print(\"Upper case:\", text.upper())\n",
    "print(\"Title case:\", text.title())\n",
    "print(\"Capitalized:\", text.capitalize())\n",
    "print(\"Replace 'python' with 'Python':\", text.replace(\"python\", \"Python\"))"
   ]
  },
  {
   "cell_type": "code",
   "execution_count": null,
   "id": "ee7750dc",
   "metadata": {},
   "outputs": [],
   "source": [
    "# String formatting and content checking\n",
    "age = 25\n",
    "height = 5.9\n",
    "print(f\"I am {age} years old and {height} feet tall.\")\n",
    "\n",
    "email = \"user@example.com\"\n",
    "print(f\"Email contains '@': {'@' in email}\")\n",
    "print(f\"Email starts with 'user': {email.startswith('user')}\")\n",
    "print(f\"Email ends with '.com': {email.endswith('.com')}\")"
   ]
  },
  {
   "cell_type": "markdown",
   "id": "1026a546",
   "metadata": {},
   "source": [
    "**🎯 Exercise:** Create a string with your favorite quote and the author's name. Then:\n",
    "1. Print the length of the quote\n",
    "2. Convert it to uppercase\n",
    "3. Check if it contains the word \"the\"\n",
    "4. Use f-string formatting to create a sentence like: \"My favorite quote has X characters and was said by AUTHOR\"\n",
    "\n",
    "Expected result: You should see the quote length, uppercase version, True/False for \"the\", and your formatted sentence."
   ]
  },
  {
   "cell_type": "code",
   "execution_count": null,
   "id": "f58a595d",
   "metadata": {},
   "outputs": [],
   "source": [
    "# Write your code here\n",
    "# Example:\n",
    "# quote = \"The only way to do great work is to love what you do\"\n",
    "# author = \"Steve Jobs\""
   ]
  },
  {
   "cell_type": "markdown",
   "id": "fe35d7f6",
   "metadata": {},
   "source": [
    "## 6. Working with Lists\n",
    "\n",
    "Lists are ordered collections of items that can hold different data types. They are one of the most versatile data structures in Python. Lists are mutable, meaning you can change their contents after creation.\n",
    "\n",
    "Lists are created using square brackets `[]` and items are separated by commas. You can access individual items using their index (position), starting from 0 for the first item.\n",
    "\n",
    "Common list operations include adding items, removing items, checking if an item exists, and getting the length. Learn more about lists in the [Python list documentation](https://docs.python.org/3/tutorial/datastructures.html#more-on-lists)."
   ]
  },
  {
   "cell_type": "code",
   "execution_count": null,
   "id": "578715ab",
   "metadata": {},
   "outputs": [],
   "source": [
    "# Creating lists\n",
    "fruits = [\"apple\", \"banana\", \"orange\", \"grape\"]\n",
    "numbers = [1, 2, 3, 4, 5]\n",
    "mixed_list = [\"hello\", 42, 3.14, True]\n",
    "\n",
    "print(\"Fruits:\", fruits)\n",
    "print(\"Numbers:\", numbers)\n",
    "print(\"Mixed list:\", mixed_list)"
   ]
  },
  {
   "cell_type": "code",
   "execution_count": null,
   "id": "5a08d795",
   "metadata": {},
   "outputs": [],
   "source": [
    "# Accessing list items and checking length\n",
    "print(\"Accessing items:\")\n",
    "print(\"First fruit:\", fruits[0])\n",
    "print(\"Last fruit:\", fruits[-1])  # negative indexing\n",
    "print(\"Second number:\", numbers[1])\n",
    "print(\"Number of fruits:\", len(fruits))"
   ]
  },
  {
   "cell_type": "code",
   "execution_count": null,
   "id": "b65e6b98",
   "metadata": {},
   "outputs": [],
   "source": [
    "# Adding items to lists\n",
    "fruits.append(\"kiwi\")  # add to end\n",
    "print(\"After adding kiwi:\", fruits)\n",
    "\n",
    "fruits.insert(1, \"mango\")  # insert at specific position\n",
    "print(\"After inserting mango at position 1:\", fruits)"
   ]
  },
  {
   "cell_type": "code",
   "execution_count": null,
   "id": "b43681e3",
   "metadata": {},
   "outputs": [],
   "source": [
    "# Removing items from lists\n",
    "fruits.remove(\"banana\")  # remove by value\n",
    "print(\"After removing banana:\", fruits)\n",
    "\n",
    "removed_fruit = fruits.pop()  # remove and return last item\n",
    "print(\"Removed fruit:\", removed_fruit)\n",
    "print(\"Fruits after pop:\", fruits)"
   ]
  },
  {
   "cell_type": "code",
   "execution_count": null,
   "id": "15030713",
   "metadata": {},
   "outputs": [],
   "source": [
    "# Checking membership and slicing lists\n",
    "print(\"Is 'apple' in fruits?\", \"apple\" in fruits)\n",
    "print(\"Is 'banana' in fruits?\", \"banana\" in fruits)\n",
    "\n",
    "# List slicing (getting a portion of the list)\n",
    "print(\"First 3 fruits:\", fruits[:3])\n",
    "print(\"Last 2 fruits:\", fruits[-2:])"
   ]
  },
  {
   "cell_type": "markdown",
   "id": "20c3aa1b",
   "metadata": {},
   "source": [
    "## 7. Working with Dictionaries\n",
    "\n",
    "Dictionaries store data in key-value pairs, making them perfect for representing structured data. They're like real dictionaries where you look up a word (key) to find its definition (value).\n",
    "\n",
    "Dictionaries are created using curly braces `{}` with keys and values separated by colons. They are mutable and very fast for looking up values by their keys.\n",
    "\n",
    "Common use cases include storing user information, configuration settings, or any time you need to associate names with values. Learn more in the [Python dictionary documentation](https://docs.python.org/3/tutorial/datastructures.html#dictionaries)."
   ]
  },
  {
   "cell_type": "code",
   "execution_count": null,
   "id": "33973052",
   "metadata": {},
   "outputs": [],
   "source": [
    "# Creating dictionaries\n",
    "person = {\n",
    "    \"name\": \"Alice\",\n",
    "    \"age\": 30,\n",
    "    \"city\": \"New York\",\n",
    "    \"is_student\": False\n",
    "}\n",
    "\n",
    "print(\"Person dictionary:\", person)"
   ]
  },
  {
   "cell_type": "code",
   "execution_count": null,
   "id": "9bad781f",
   "metadata": {},
   "outputs": [],
   "source": [
    "# Accessing dictionary values\n",
    "print(\"Name:\", person[\"name\"])\n",
    "print(\"Age:\", person[\"age\"])\n",
    "\n",
    "# Using get() method (safer - won't crash if key doesn't exist)\n",
    "print(\"Email:\", person.get(\"email\", \"Not provided\"))"
   ]
  },
  {
   "cell_type": "code",
   "execution_count": null,
   "id": "4a6d4584",
   "metadata": {},
   "outputs": [],
   "source": [
    "# Adding and modifying dictionary items\n",
    "person[\"email\"] = \"alice@example.com\"\n",
    "person[\"hobbies\"] = [\"reading\", \"hiking\", \"cooking\"]\n",
    "print(\"Updated person:\", person)\n",
    "\n",
    "# Modifying existing values\n",
    "person[\"age\"] = 31\n",
    "print(\"Updated age:\", person[\"age\"])"
   ]
  },
  {
   "cell_type": "code",
   "execution_count": null,
   "id": "f4c8492f",
   "metadata": {},
   "outputs": [],
   "source": [
    "# Dictionary methods and operations\n",
    "print(\"All keys:\", list(person.keys()))\n",
    "print(\"All values:\", list(person.values()))\n",
    "print(\"All key-value pairs:\", list(person.items()))\n",
    "\n",
    "# Checking if key exists\n",
    "print(\"Has 'name' key:\", \"name\" in person)\n",
    "print(\"Has 'phone' key:\", \"phone\" in person)\n",
    "print(\"Number of items in dictionary:\", len(person))"
   ]
  },
  {
   "cell_type": "code",
   "execution_count": null,
   "id": "6597d368",
   "metadata": {},
   "outputs": [],
   "source": [
    "# Removing items from dictionary\n",
    "removed_value = person.pop(\"is_student\")\n",
    "print(\"Removed is_student:\", removed_value)\n",
    "print(\"Dictionary after removal:\", person)"
   ]
  },
  {
   "cell_type": "markdown",
   "id": "9d45691a",
   "metadata": {},
   "source": [
    "## 8. Conditional Statements (if/elif/else)\n",
    "\n",
    "Conditional statements allow your program to make decisions and execute different code based on different conditions. This is where your program becomes \"smart\" and can respond to different situations.\n",
    "\n",
    "Python uses `if`, `elif` (else if), and `else` keywords to create conditional logic. Remember that indentation is crucial - all code that should run when a condition is true must be indented under the if statement.\n",
    "\n",
    "The conditions you test can use comparison operators (`==`, `!=`, `<`, `>`, etc.) and logical operators (`and`, `or`, `not`). This is fundamental to all programming logic!"
   ]
  },
  {
   "cell_type": "code",
   "execution_count": null,
   "id": "b1b7fede",
   "metadata": {},
   "outputs": [],
   "source": [
    "# Simple if statement\n",
    "age = 18\n",
    "\n",
    "if age >= 18:\n",
    "    print(\"You are an adult!\")\n",
    "    print(\"You can vote.\")\n",
    "\n",
    "print(\"This line always runs\")"
   ]
  },
  {
   "cell_type": "code",
   "execution_count": null,
   "id": "8a75dffb",
   "metadata": {},
   "outputs": [],
   "source": [
    "# if-else statement\n",
    "temperature = 25\n",
    "\n",
    "if temperature > 30:\n",
    "    print(\"It's hot outside!\")\n",
    "else:\n",
    "    print(\"It's not too hot.\")"
   ]
  },
  {
   "cell_type": "code",
   "execution_count": null,
   "id": "d0a76a15",
   "metadata": {},
   "outputs": [],
   "source": [
    "# if-elif-else statement\n",
    "score = 85\n",
    "\n",
    "if score >= 90:\n",
    "    grade = \"A\"\n",
    "elif score >= 80:\n",
    "    grade = \"B\"\n",
    "elif score >= 70:\n",
    "    grade = \"C\"\n",
    "elif score >= 60:\n",
    "    grade = \"D\"\n",
    "else:\n",
    "    grade = \"F\"\n",
    "\n",
    "print(f\"Score: {score}, Grade: {grade}\")"
   ]
  },
  {
   "cell_type": "code",
   "execution_count": null,
   "id": "ac014411",
   "metadata": {},
   "outputs": [],
   "source": [
    "# Multiple conditions with logical operators\n",
    "weather = \"sunny\"\n",
    "temperature = 75\n",
    "\n",
    "if weather == \"sunny\" and temperature > 70:\n",
    "    print(\"Perfect day for a picnic!\")\n",
    "elif weather == \"rainy\" or temperature < 50:\n",
    "    print(\"Better stay inside.\")\n",
    "else:\n",
    "    print(\"Decent weather, but could be better.\")"
   ]
  },
  {
   "cell_type": "code",
   "execution_count": null,
   "id": "ceff9751",
   "metadata": {},
   "outputs": [],
   "source": [
    "# Checking membership in lists\n",
    "favorite_colors = [\"blue\", \"green\", \"red\"]\n",
    "user_color = \"blue\"\n",
    "\n",
    "if user_color in favorite_colors:\n",
    "    print(f\"{user_color} is one of my favorite colors!\")\n",
    "else:\n",
    "    print(f\"{user_color} is not in my favorites.\")"
   ]
  },
  {
   "cell_type": "code",
   "execution_count": null,
   "id": "ffbcd6e5",
   "metadata": {},
   "outputs": [],
   "source": [
    "# Using boolean variables\n",
    "is_weekend = True\n",
    "has_homework = False\n",
    "\n",
    "if is_weekend and not has_homework:\n",
    "    print(\"Time to relax!\")\n",
    "elif is_weekend and has_homework:\n",
    "    print(\"Weekend, but need to do homework.\")\n",
    "else:\n",
    "    print(\"It's a weekday.\")"
   ]
  },
  {
   "cell_type": "markdown",
   "id": "e7c1a342",
   "metadata": {},
   "source": [
    "**🎯 Exercise:** Write a program that checks if a person can get a driver's license. The rules are:\n",
    "- Must be at least 16 years old\n",
    "- Must have passed both written and practical tests\n",
    "- If under 18, needs parental consent\n",
    "\n",
    "Create variables for age, written_test_passed, practical_test_passed, and parental_consent. Then write if statements to determine if they can get a license.\n",
    "\n",
    "Expected output: A message saying whether they can get a license and why/why not."
   ]
  },
  {
   "cell_type": "code",
   "execution_count": null,
   "id": "eb4a9f72",
   "metadata": {},
   "outputs": [],
   "source": [
    "# Write your code here\n",
    "# Example variables:\n",
    "# age = 17\n",
    "# written_test_passed = True\n",
    "# practical_test_passed = True\n",
    "# parental_consent = True"
   ]
  },
  {
   "cell_type": "markdown",
   "id": "a93a34a8",
   "metadata": {},
   "source": [
    "## 9. Loops - For Loops\n",
    "\n",
    "Loops allow you to repeat code multiple times, which is essential for processing collections of data or performing repetitive tasks. For loops are perfect when you know how many times you want to repeat something or when you want to process each item in a collection.\n",
    "\n",
    "For loops work with sequences like lists, strings, ranges, and dictionaries. The `range()` function is commonly used to create sequences of numbers for counting.\n",
    "\n",
    "This is where programming becomes really powerful - instead of writing the same code 100 times, you can use a loop to repeat it automatically!"
   ]
  },
  {
   "cell_type": "code",
   "execution_count": null,
   "id": "ec152387",
   "metadata": {},
   "outputs": [],
   "source": [
    "# Simple for loop with range\n",
    "print(\"Counting from 1 to 5:\")\n",
    "for i in range(1, 6):\n",
    "    print(f\"Number: {i}\")"
   ]
  },
  {
   "cell_type": "code",
   "execution_count": null,
   "id": "940574e6",
   "metadata": {},
   "outputs": [],
   "source": [
    "# Looping through a list\n",
    "fruits = [\"apple\", \"banana\", \"orange\", \"grape\"]\n",
    "print(\"My favorite fruits:\")\n",
    "for fruit in fruits:\n",
    "    print(f\"I like {fruit}\")"
   ]
  },
  {
   "cell_type": "code",
   "execution_count": null,
   "id": "ddc1fefa",
   "metadata": {},
   "outputs": [],
   "source": [
    "# Looping through a string\n",
    "word = \"Python\"\n",
    "print(\"Letters in Python:\")\n",
    "for letter in word:\n",
    "    print(letter)"
   ]
  },
  {
   "cell_type": "code",
   "execution_count": null,
   "id": "25280d23",
   "metadata": {},
   "outputs": [],
   "source": [
    "# Using enumerate to get both index and value\n",
    "colors = [\"red\", \"green\", \"blue\"]\n",
    "print(\"Colors with their positions:\")\n",
    "for index, color in enumerate(colors):\n",
    "    print(f\"Position {index}: {color}\")"
   ]
  },
  {
   "cell_type": "code",
   "execution_count": null,
   "id": "bfd1180e",
   "metadata": {},
   "outputs": [],
   "source": [
    "# Looping through dictionary keys and values\n",
    "person = {\"name\": \"Alice\", \"age\": 30, \"city\": \"New York\"}\n",
    "\n",
    "print(\"Dictionary keys:\")\n",
    "for key in person.keys():\n",
    "    print(key)\n",
    "\n",
    "print(\"\\nDictionary values:\")\n",
    "for value in person.values():\n",
    "    print(value)"
   ]
  },
  {
   "cell_type": "code",
   "execution_count": null,
   "id": "f9d26c79",
   "metadata": {},
   "outputs": [],
   "source": [
    "# Looping through dictionary key-value pairs\n",
    "print(\"Dictionary key-value pairs:\")\n",
    "for key, value in person.items():\n",
    "    print(f\"{key}: {value}\")"
   ]
  },
  {
   "cell_type": "code",
   "execution_count": null,
   "id": "77fdd90f",
   "metadata": {},
   "outputs": [],
   "source": [
    "# Using range with different parameters - even numbers\n",
    "print(\"Even numbers from 0 to 10:\")\n",
    "for num in range(0, 11, 2):  # start, stop, step\n",
    "    print(num)"
   ]
  },
  {
   "cell_type": "code",
   "execution_count": null,
   "id": "2e033e29",
   "metadata": {},
   "outputs": [],
   "source": [
    "# Countdown with range\n",
    "print(\"Countdown:\")\n",
    "for num in range(5, 0, -1):  # counting backwards\n",
    "    print(num)\n",
    "print(\"Blast off!\")"
   ]
  },
  {
   "cell_type": "markdown",
   "id": "221ecec4",
   "metadata": {},
   "source": [
    "## 10. Loops - While Loops\n",
    "\n",
    "While loops continue running as long as a condition is true. They're useful when you don't know exactly how many times you need to repeat something, but you know when to stop.\n",
    "\n",
    "**Important:** Be careful with while loops! Make sure the condition will eventually become false, or you'll create an infinite loop that runs forever. Always include code inside the loop that changes the condition.\n",
    "\n",
    "While loops are great for user input validation, game loops, or any situation where you need to \"keep doing something until...\""
   ]
  },
  {
   "cell_type": "code",
   "execution_count": null,
   "id": "69646ec7",
   "metadata": {},
   "outputs": [],
   "source": [
    "# Simple while loop\n",
    "count = 1\n",
    "print(\"Counting with while loop:\")\n",
    "while count <= 5:\n",
    "    print(f\"Count: {count}\")\n",
    "    count += 1  # This is crucial - increment the counter!"
   ]
  },
  {
   "cell_type": "code",
   "execution_count": null,
   "id": "330ea98d",
   "metadata": {},
   "outputs": [],
   "source": [
    "# While loop with user input simulation\n",
    "# (In a real program, you'd get input from the user)\n",
    "attempts = 0\n",
    "max_attempts = 3\n",
    "correct_password = \"python123\"\n",
    "user_input = \"wrong\"  # Simulating user input\n",
    "\n",
    "print(\"Password checking simulation:\")\n",
    "while user_input != correct_password and attempts < max_attempts:\n",
    "    attempts += 1\n",
    "    print(f\"Attempt {attempts}: Checking password...\")\n",
    "    if attempts == 1:\n",
    "        user_input = \"wrong1\"\n",
    "    elif attempts == 2:\n",
    "        user_input = \"wrong2\"\n",
    "    else:\n",
    "        user_input = \"python123\"  # Correct on 3rd attempt\n",
    "    \n",
    "    if user_input == correct_password:\n",
    "        print(\"Access granted!\")\n",
    "    else:\n",
    "        print(\"Incorrect password\")\n",
    "\n",
    "if attempts == max_attempts and user_input != correct_password:\n",
    "    print(\"Too many failed attempts!\")"
   ]
  },
  {
   "cell_type": "code",
   "execution_count": null,
   "id": "2a291687",
   "metadata": {},
   "outputs": [],
   "source": [
    "# While loop for processing a list\n",
    "numbers = [1, 2, 3, 4, 5]\n",
    "index = 0\n",
    "\n",
    "print(\"Processing list with while loop:\")\n",
    "while index < len(numbers):\n",
    "    print(f\"Number at index {index}: {numbers[index]}\")\n",
    "    index += 1"
   ]
  },
  {
   "cell_type": "code",
   "execution_count": null,
   "id": "4aa44063",
   "metadata": {},
   "outputs": [],
   "source": [
    "# While loop with break and continue\n",
    "print(\"Finding first even number greater than 10:\")\n",
    "number = 11\n",
    "while True:  # Infinite loop (but we'll break out)\n",
    "    if number > 20:\n",
    "        print(\"No even number found in range\")\n",
    "        break\n",
    "    if number % 2 == 0:\n",
    "        print(f\"Found even number: {number}\")\n",
    "        break\n",
    "    number += 1"
   ]
  },
  {
   "cell_type": "markdown",
   "id": "b28e936b",
   "metadata": {},
   "source": [
    "## 11. Functions Basics\n",
    "\n",
    "Functions are reusable blocks of code that perform specific tasks. They help you organize your code, avoid repetition, and make your programs easier to understand and maintain.\n",
    "\n",
    "A function is defined using the `def` keyword, followed by the function name and parentheses. Functions can take inputs (called parameters) and return outputs. Think of functions like recipes - you give them ingredients (parameters) and they give you back a dish (return value).\n",
    "\n",
    "Functions are one of the most important concepts in programming. Once you master functions, you can build complex programs by combining simple, well-designed functions. Learn more in the [Python functions tutorial](https://docs.python.org/3/tutorial/controlflow.html#defining-functions)."
   ]
  },
  {
   "cell_type": "code",
   "execution_count": null,
   "id": "3b6178e1",
   "metadata": {},
   "outputs": [],
   "source": [
    "# Simple function with no parameters\n",
    "def greet():\n",
    "    print(\"Hello, World!\")\n",
    "\n",
    "# Call the function\n",
    "greet()"
   ]
  },
  {
   "cell_type": "code",
   "execution_count": null,
   "id": "92464342",
   "metadata": {},
   "outputs": [],
   "source": [
    "# Function with parameters\n",
    "def greet_person(name):\n",
    "    print(f\"Hello, {name}!\")\n",
    "\n",
    "greet_person(\"Alice\")\n",
    "greet_person(\"Bob\")"
   ]
  },
  {
   "cell_type": "code",
   "execution_count": null,
   "id": "19265d64",
   "metadata": {},
   "outputs": [],
   "source": [
    "# Function with multiple parameters\n",
    "def introduce(name, age, city):\n",
    "    print(f\"Hi, I'm {name}. I'm {age} years old and I live in {city}.\")\n",
    "\n",
    "introduce(\"Charlie\", 25, \"Boston\")"
   ]
  },
  {
   "cell_type": "code",
   "execution_count": null,
   "id": "652d4e36",
   "metadata": {},
   "outputs": [],
   "source": [
    "# Function with return value\n",
    "def add_numbers(a, b):\n",
    "    result = a + b\n",
    "    return result\n",
    "\n",
    "sum1 = add_numbers(5, 3)\n",
    "sum2 = add_numbers(10, 20)\n",
    "print(f\"5 + 3 = {sum1}\")\n",
    "print(f\"10 + 20 = {sum2}\")"
   ]
  },
  {
   "cell_type": "code",
   "execution_count": null,
   "id": "74e2399a",
   "metadata": {},
   "outputs": [],
   "source": [
    "# Function with default parameters\n",
    "def greet_with_title(name, title=\"Mr./Ms.\"):\n",
    "    return f\"Hello, {title} {name}!\"\n",
    "\n",
    "print(greet_with_title(\"Smith\"))  # Uses default title\n",
    "print(greet_with_title(\"Johnson\", \"Dr.\"))  # Uses provided title"
   ]
  },
  {
   "cell_type": "code",
   "execution_count": null,
   "id": "0e5834f9",
   "metadata": {},
   "outputs": [],
   "source": [
    "# Function that processes a list\n",
    "def calculate_average(numbers):\n",
    "    if len(numbers) == 0:\n",
    "        return 0\n",
    "    total = sum(numbers)\n",
    "    average = total / len(numbers)\n",
    "    return average\n",
    "\n",
    "grades = [85, 92, 78, 96, 88]\n",
    "avg_grade = calculate_average(grades)\n",
    "print(f\"Grades: {grades}\")\n",
    "print(f\"Average grade: {avg_grade:.2f}\")"
   ]
  },
  {
   "cell_type": "code",
   "execution_count": null,
   "id": "bedefb98",
   "metadata": {},
   "outputs": [],
   "source": [
    "# Function with multiple return values\n",
    "def get_name_info(full_name):\n",
    "    parts = full_name.split()\n",
    "    first_name = parts[0]\n",
    "    last_name = parts[-1]\n",
    "    initials = f\"{first_name[0]}.{last_name[0]}.\"\n",
    "    return first_name, last_name, initials\n",
    "\n",
    "first, last, init = get_name_info(\"Alice Johnson\")\n",
    "print(f\"First: {first}, Last: {last}, Initials: {init}\")"
   ]
  },
  {
   "cell_type": "markdown",
   "id": "d89d7643",
   "metadata": {},
   "source": [
    "## 12. Importing and Using Standard Modules\n",
    "\n",
    "Python comes with a vast standard library of modules that provide additional functionality. Modules are pre-written code that you can use in your programs to avoid reinventing the wheel.\n",
    "\n",
    "There are several ways to import modules:\n",
    "- `import module_name` - imports the entire module\n",
    "- `from module_name import function_name` - imports specific functions\n",
    "- `import module_name as alias` - imports with a shorter name\n",
    "\n",
    "Python's standard library includes modules for math operations, working with dates and times, file operations, web requests, and much more. You can explore the full standard library at [docs.python.org](https://docs.python.org/3/library/)."
   ]
  },
  {
   "cell_type": "code",
   "execution_count": null,
   "id": "73019050",
   "metadata": {},
   "outputs": [],
   "source": [
    "# Import entire module\n",
    "import math\n",
    "\n",
    "print(\"Using math module:\")\n",
    "print(f\"Pi: {math.pi}\")\n",
    "print(f\"Square root of 16: {math.sqrt(16)}\")\n",
    "print(f\"2 to the power of 3: {math.pow(2, 3)}\")\n",
    "print(f\"Ceiling of 4.3: {math.ceil(4.3)}\")\n",
    "print(f\"Floor of 4.7: {math.floor(4.7)}\")"
   ]
  },
  {
   "cell_type": "code",
   "execution_count": null,
   "id": "6a37d050",
   "metadata": {},
   "outputs": [],
   "source": [
    "# Import specific functions\n",
    "from random import randint, choice\n",
    "\n",
    "print(\"Using random module functions:\")\n",
    "print(f\"Random number between 1 and 10: {randint(1, 10)}\")\n",
    "print(f\"Random number between 1 and 10: {randint(1, 10)}\")\n",
    "\n",
    "colors = [\"red\", \"blue\", \"green\", \"yellow\"]\n",
    "print(f\"Random color: {choice(colors)}\")\n",
    "print(f\"Random color: {choice(colors)}\")"
   ]
  },
  {
   "cell_type": "code",
   "execution_count": null,
   "id": "6d15db27",
   "metadata": {},
   "outputs": [],
   "source": [
    "# Import with alias\n",
    "import statistics as stats\n",
    "\n",
    "numbers = [1, 2, 3, 4, 5, 6, 7, 8, 9, 10]\n",
    "print(\"Using statistics module:\")\n",
    "print(f\"Numbers: {numbers}\")\n",
    "print(f\"Mean: {stats.mean(numbers)}\")\n",
    "print(f\"Median: {stats.median(numbers)}\")\n",
    "print(f\"Mode: {stats.mode([1, 1, 2, 3, 3, 3, 4])}\")"
   ]
  },
  {
   "cell_type": "code",
   "execution_count": null,
   "id": "d0e5a930",
   "metadata": {},
   "outputs": [],
   "source": [
    "# Using os module for system information\n",
    "import os\n",
    "\n",
    "print(\"Using os module:\")\n",
    "print(f\"Current working directory: {os.getcwd()}\")\n",
    "print(f\"Operating system: {os.name}\")\n",
    "\n",
    "# Environment variables (if any exist)\n",
    "print(f\"Python path (first entry): {os.environ.get('PATH', 'Not found')[:50]}...\")"
   ]
  },
  {
   "cell_type": "code",
   "execution_count": null,
   "id": "4c0616d3",
   "metadata": {},
   "outputs": [],
   "source": [
    "# Using json module\n",
    "import json\n",
    "\n",
    "# Convert Python dictionary to JSON string\n",
    "person_dict = {\"name\": \"Alice\", \"age\": 30, \"city\": \"New York\"}\n",
    "json_string = json.dumps(person_dict)\n",
    "print(f\"Dictionary: {person_dict}\")\n",
    "print(f\"JSON string: {json_string}\")\n",
    "\n",
    "# Convert JSON string back to Python dictionary\n",
    "parsed_dict = json.loads(json_string)\n",
    "print(f\"Parsed back: {parsed_dict}\")"
   ]
  },
  {
   "cell_type": "markdown",
   "id": "d93d526a",
   "metadata": {},
   "source": [
    "## 13. Working with datetime Module\n",
    "\n",
    "The datetime module is one of Python's most useful standard library modules for working with dates and times. It provides classes for manipulating dates and times in both simple and complex ways.\n",
    "\n",
    "You can create datetime objects, format them as strings, parse strings into datetime objects, perform date arithmetic, and much more. This is incredibly useful for logging, scheduling, data analysis, and any application that deals with time-based data.\n",
    "\n",
    "The main classes in datetime are `date`, `time`, `datetime`, and `timedelta`. Learn more in the [datetime documentation](https://docs.python.org/3/library/datetime.html)."
   ]
  },
  {
   "cell_type": "code",
   "execution_count": null,
   "id": "1fb30901",
   "metadata": {},
   "outputs": [],
   "source": [
    "# Import datetime module\n",
    "from datetime import datetime, date, time, timedelta\n",
    "\n",
    "# Get current date and time\n",
    "now = datetime.now()\n",
    "today = date.today()\n",
    "\n",
    "print(\"Current date and time:\")\n",
    "print(f\"Full datetime: {now}\")\n",
    "print(f\"Just the date: {today}\")\n",
    "print(f\"Just the time: {now.time()}\")"
   ]
  },
  {
   "cell_type": "code",
   "execution_count": null,
   "id": "fb0a5329",
   "metadata": {},
   "outputs": [],
   "source": [
    "# Create specific dates\n",
    "birthday = date(1995, 7, 15)  # July 15, 1995\n",
    "meeting_time = datetime(2024, 12, 25, 14, 30)  # Dec 25, 2024 at 2:30 PM\n",
    "\n",
    "print(\"Specific dates:\")\n",
    "print(f\"Birthday: {birthday}\")\n",
    "print(f\"Meeting: {meeting_time}\")"
   ]
  },
  {
   "cell_type": "code",
   "execution_count": null,
   "id": "1ce7f43f",
   "metadata": {},
   "outputs": [],
   "source": [
    "# Format dates as strings\n",
    "print(\"Formatted dates:\")\n",
    "print(f\"Today (default): {today}\")\n",
    "print(f\"Today (custom): {today.strftime('%B %d, %Y')}\")  # December 25, 2024\n",
    "print(f\"Today (short): {today.strftime('%m/%d/%y')}\")    # 12/25/24\n",
    "print(f\"Now (with time): {now.strftime('%Y-%m-%d %H:%M:%S')}\")"
   ]
  },
  {
   "cell_type": "code",
   "execution_count": null,
   "id": "89c4bbc5",
   "metadata": {},
   "outputs": [],
   "source": [
    "# Date arithmetic with timedelta\n",
    "print(\"Date arithmetic:\")\n",
    "one_week = timedelta(days=7)\n",
    "one_month = timedelta(days=30)\n",
    "two_hours = timedelta(hours=2)\n",
    "\n",
    "future_date = today + one_week\n",
    "past_date = today - one_month\n",
    "later_time = now + two_hours\n",
    "\n",
    "print(f\"One week from today: {future_date}\")\n",
    "print(f\"One month ago: {past_date}\")\n",
    "print(f\"Two hours from now: {later_time.strftime('%H:%M:%S')}\")"
   ]
  },
  {
   "cell_type": "code",
   "execution_count": null,
   "id": "9cc3f678",
   "metadata": {},
   "outputs": [],
   "source": [
    "# Calculate age function\n",
    "def calculate_age(birth_date):\n",
    "    today = date.today()\n",
    "    age = today - birth_date\n",
    "    return age.days // 365  # Approximate age in years\n",
    "\n",
    "birth_date = date(1990, 5, 15)\n",
    "age = calculate_age(birth_date)\n",
    "print(f\"Born on: {birth_date}\")\n",
    "print(f\"Age: approximately {age} years\")"
   ]
  },
  {
   "cell_type": "code",
   "execution_count": null,
   "id": "858a6f79",
   "metadata": {},
   "outputs": [],
   "source": [
    "# Parse string to datetime and work with weekdays\n",
    "date_string = \"2024-03-15\"\n",
    "parsed_date = datetime.strptime(date_string, \"%Y-%m-%d\")\n",
    "print(f\"Parsed '{date_string}' as: {parsed_date}\")\n",
    "\n",
    "# Work with weekdays\n",
    "print(f\"Today is weekday {today.weekday()}\")  # Monday = 0, Sunday = 6\n",
    "print(f\"Today is {today.strftime('%A')}\")     # Full weekday name\n",
    "\n",
    "# Check if it's weekend\n",
    "is_weekend = today.weekday() >= 5\n",
    "print(f\"Is it weekend? {is_weekend}\")"
   ]
  },
  {
   "cell_type": "markdown",
   "id": "a208b635",
   "metadata": {},
   "source": [
    "## 14. Practice Exercises - Putting It All Together\n",
    "\n",
    "Now it's time to combine everything you've learned! These exercises will help you practice using variables, data types, control structures, functions, and modules together in realistic scenarios.\n",
    "\n",
    "Take your time with these exercises. Don't worry if you don't get them right immediately - programming is about problem-solving and learning from mistakes. Try to break down each problem into smaller steps and use the concepts you've learned.\n",
    "\n",
    "Remember: the best way to learn programming is by doing!"
   ]
  },
  {
   "cell_type": "markdown",
   "id": "ce3dacef",
   "metadata": {},
   "source": [
    "**🎯 Exercise 1: Personal Information System**\n",
    "\n",
    "Create a program that:\n",
    "1. Stores information about yourself in a dictionary (name, age, hobbies list, favorite color)\n",
    "2. Prints a formatted introduction using all the information\n",
    "3. Calculates and displays your birth year using the current date\n",
    "4. Checks if any of your hobbies contain the word \"read\" (case-insensitive)\n",
    "\n",
    "Expected output: A nice introduction, your birth year, and whether you have any reading-related hobbies."
   ]
  },
  {
   "cell_type": "code",
   "execution_count": null,
   "id": "3dd64720",
   "metadata": {},
   "outputs": [],
   "source": [
    "# Exercise 1: Write your solution here\n",
    "from datetime import date\n",
    "\n",
    "# Your code here..."
   ]
  },
  {
   "cell_type": "markdown",
   "id": "029b104a",
   "metadata": {},
   "source": [
    "**🎯 Exercise 2: Grade Calculator**\n",
    "\n",
    "Create a function called `calculate_final_grade` that:\n",
    "1. Takes a list of test scores as input\n",
    "2. Removes the lowest score (to simulate dropping the worst test)\n",
    "3. Calculates the average of remaining scores\n",
    "4. Returns a letter grade (A: 90+, B: 80-89, C: 70-79, D: 60-69, F: below 60)\n",
    "5. Test it with at least two different sets of scores\n",
    "\n",
    "Expected output: The function should return the letter grade, and you should print both the average and the grade."
   ]
  },
  {
   "cell_type": "code",
   "execution_count": null,
   "id": "0a83facd",
   "metadata": {},
   "outputs": [],
   "source": [
    "# Exercise 2: Write your solution here\n",
    "\n",
    "def calculate_final_grade(scores):\n",
    "    # Your code here...\n",
    "    pass\n",
    "\n",
    "# Test your function\n",
    "test_scores_1 = [85, 92, 78, 96, 73]\n",
    "test_scores_2 = [90, 88, 94, 85, 91]\n",
    "\n",
    "# Call your function and print results"
   ]
  },
  {
   "cell_type": "markdown",
   "id": "b3599911",
   "metadata": {},
   "source": [
    "**🎯 Exercise 3: Word Analysis Tool**\n",
    "\n",
    "Create a program that:\n",
    "1. Takes a sentence as input (use a string variable)\n",
    "2. Counts the number of words, characters, and vowels\n",
    "3. Finds the longest word\n",
    "4. Creates a dictionary with word frequency (how many times each word appears)\n",
    "5. Prints a summary report\n",
    "\n",
    "Use string methods, loops, and dictionaries. Test with: \"The quick brown fox jumps over the lazy dog\"\n",
    "\n",
    "Expected output: Word count, character count, vowel count, longest word, and word frequency dictionary."
   ]
  },
  {
   "cell_type": "code",
   "execution_count": null,
   "id": "6a138922",
   "metadata": {},
   "outputs": [],
   "source": [
    "# Exercise 3: Write your solution here\n",
    "\n",
    "sentence = \"The quick brown fox jumps over the lazy dog\"\n",
    "\n",
    "# Your code here...\n",
    "# Hint: Use sentence.split() to get words\n",
    "# Hint: Use sentence.lower() for case-insensitive counting"
   ]
  },
  {
   "cell_type": "markdown",
   "id": "7ef5051f",
   "metadata": {},
   "source": [
    "## Congratulations! 🎉\n",
    "\n",
    "You've completed your first Python programming notebook! You've learned the fundamental building blocks of Python programming:\n",
    "\n",
    "**Core Concepts Covered:**\n",
    "- ✅ Python syntax and basic rules\n",
    "- ✅ Variables and data types (int, float, str, bool)\n",
    "- ✅ Working with numbers and strings\n",
    "- ✅ Lists and dictionaries\n",
    "- ✅ Conditional statements (if/elif/else)\n",
    "- ✅ Loops (for and while)\n",
    "- ✅ Functions and return values\n",
    "- ✅ Importing and using modules\n",
    "- ✅ Working with dates and times\n",
    "\n",
    "**What's Next?**\n",
    "- Practice the exercises above until you feel comfortable\n",
    "- Explore more Python modules and libraries\n",
    "- Learn about file handling and error management\n",
    "- Try building small projects combining these concepts\n",
    "\n",
    "**Additional Learning Resources:**\n",
    "- [Python.org Official Tutorial](https://docs.python.org/3/tutorial/)\n",
    "- [Real Python](https://realpython.com/) - Excellent tutorials and articles\n",
    "- [Automate the Boring Stuff with Python](https://automatetheboringstuff.com/) - Free online book\n",
    "- [Python Data Science Handbook](https://jakevdp.github.io/PythonDataScienceHandbook/) - For data science applications\n",
    "\n",
    "Keep practicing and experimenting - you're well on your way to becoming a Python programmer!"
   ]
  }
 ],
 "metadata": {
  "kernelspec": {
   "display_name": "Python 3",
   "language": "python",
   "name": "python3"
  },
  "language_info": {
   "codemirror_mode": {
    "name": "ipython",
    "version": 3
   },
   "file_extension": ".py",
   "mimetype": "text/x-python",
   "name": "python",
   "nbconvert_exporter": "python",
   "pygments_lexer": "ipython3",
   "version": "3.13.7"
  }
 },
 "nbformat": 4,
 "nbformat_minor": 5
}
